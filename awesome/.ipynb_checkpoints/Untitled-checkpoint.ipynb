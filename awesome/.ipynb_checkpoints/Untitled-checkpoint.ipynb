{
 "cells": [
  {
   "cell_type": "code",
   "execution_count": 3,
   "id": "british-empty",
   "metadata": {},
   "outputs": [
    {
     "name": "stdout",
     "output_type": "stream",
     "text": [
      "The average is\t5.5\n"
     ]
    }
   ],
   "source": [
    "function average(...)\n",
    "   result = 0\n",
    "   local arg = {...}\n",
    "   for i,v in ipairs(arg) do\n",
    "      result = result + v\n",
    "   end\n",
    "   return result/#arg\n",
    "end\n",
    "\n",
    "\n",
    "print(\"The average is\",average(10,5,3,4,5,6))"
   ]
  },
  {
   "cell_type": "code",
   "execution_count": 7,
   "id": "peripheral-sierra",
   "metadata": {},
   "outputs": [],
   "source": [
    "package.path = package.path .. \";/usr/share/awesome/lib/?.lua;/usr/share/awesome/lib/?/init.lua\""
   ]
  },
  {
   "cell_type": "code",
   "execution_count": 23,
   "id": "conceptual-islam",
   "metadata": {},
   "outputs": [
    {
     "ename": "n/a",
     "evalue": "(ilua):1: module 'naughty.config' not found:",
     "execution_count": 23,
     "output_type": "error",
     "traceback": [
      "(ilua):1: module 'naughty.config' not found:",
      "\tno field package.preload['naughty.config']",
      "\tno file '/usr/share/lua/5.3/naughty/config.lua'",
      "\tno file '/usr/share/lua/5.3/naughty/config/init.lua'",
      "\tno file '/usr/lib/lua/5.3/naughty/config.lua'",
      "\tno file '/usr/lib/lua/5.3/naughty/config/init.lua'",
      "\tno file './naughty/config.lua'",
      "\tno file './naughty/config/init.lua'",
      "\tno file '/home/santapo/.local/lib/python3.9/site-packages/ilua/naughty/config.lua'",
      "\tno file '/usr/share/awesome/lib/naughty/config.lua'",
      "\tno file '/usr/share/awesome/lib/naughty/config/init.lua'",
      "\tno file '/usr/share/awesome/lib/naughty/config.lua'",
      "\tno file '/usr/share/awesome/lib/naughty/config/init.lua'",
      "\tno file '/usr/share/awesome/lib/naughty/config/naughty/config.lua'",
      "\tno file '/usr/lib/lua/5.3/naughty/config.so'",
      "\tno file '/usr/lib/lua/5.3/loadall.so'",
      "\tno file './naughty/config.so'",
      "\tno file '/usr/lib/lua/5.3/naughty.so'",
      "\tno file '/usr/lib/lua/5.3/loadall.so'",
      "\tno file './naughty.so'",
      "stack traceback:",
      "\t[C]: in function 'require'",
      "\t(ilua):1: in main chunk",
      "\t[C]: in function 'xpcall'",
      "\t...ntapo/.local/lib/python3.9/site-packages/ilua/interp.lua:65: in local 'handle_execute'",
      "\t...ntapo/.local/lib/python3.9/site-packages/ilua/interp.lua:162: in main chunk",
      "\t[C]: in ?"
     ]
    }
   ],
   "source": [
    "local config  = require ('naughty.config')\n"
   ]
  },
  {
   "cell_type": "code",
   "execution_count": 21,
   "id": "returning-dialogue",
   "metadata": {},
   "outputs": [
    {
     "ename": "n/a",
     "evalue": "(ilua):3: module 'naughty.notify' not found:",
     "execution_count": 21,
     "output_type": "error",
     "traceback": [
      "(ilua):3: module 'naughty.notify' not found:",
      "\tno field package.preload['naughty.notify']",
      "\tno file '/usr/share/lua/5.3/naughty/notify.lua'",
      "\tno file '/usr/share/lua/5.3/naughty/notify/init.lua'",
      "\tno file '/usr/lib/lua/5.3/naughty/notify.lua'",
      "\tno file '/usr/lib/lua/5.3/naughty/notify/init.lua'",
      "\tno file './naughty/notify.lua'",
      "\tno file './naughty/notify/init.lua'",
      "\tno file '/home/santapo/.local/lib/python3.9/site-packages/ilua/naughty/notify.lua'",
      "\tno file '/usr/share/awesome/lib/naughty/notify.lua'",
      "\tno file '/usr/share/awesome/lib/naughty/notify/init.lua'",
      "\tno file '/usr/share/awesome/lib/naughty/notify.lua'",
      "\tno file '/usr/share/awesome/lib/naughty/notify/init.lua'",
      "\tno file '/usr/share/awesome/lib/naughty/notify/naughty/notify.lua'",
      "\tno file '/usr/lib/lua/5.3/naughty/notify.so'",
      "\tno file '/usr/lib/lua/5.3/loadall.so'",
      "\tno file './naughty/notify.so'",
      "\tno file '/usr/lib/lua/5.3/naughty.so'",
      "\tno file '/usr/lib/lua/5.3/loadall.so'",
      "\tno file './naughty.so'",
      "stack traceback:",
      "\t[C]: in function 'require'",
      "\t(ilua):3: in main chunk",
      "\t[C]: in function 'xpcall'",
      "\t...ntapo/.local/lib/python3.9/site-packages/ilua/interp.lua:65: in local 'handle_execute'",
      "\t...ntapo/.local/lib/python3.9/site-packages/ilua/interp.lua:162: in main chunk",
      "\t[C]: in ?"
     ]
    }
   ],
   "source": [
    "local lgi = require ('lgi')\n",
    "local UP = lgi.require('UPowerGlib')\n",
    "local notify = require ('naughty.notify')\n",
    "local config  = require ('naughty.config')\n",
    "local battery = {\n",
    "   signal = {\n",
    "      update = \"battery::update\",\n",
    "      attach = \"battery::attach\"\n",
    "   },\n",
    "   notifycation = {},\n",
    "   status = {\n",
    "      [UP.DeviceState.PENDING_DISCHARGE] = \"pending discharge\",\n",
    "      [UP.DeviceState.PENDING_CHARGE]    = \"pending charge\",\n",
    "      [UP.DeviceState.FULLY_CHARGED]     = \"full\",\n",
    "      [UP.DeviceState.EMPTY]             = \"empty\",\n",
    "      [UP.DeviceState.DISCHARGING]       = \"discharging\",\n",
    "      [UP.DeviceState.CHARGING]          = \"charging\",\n",
    "      [UP.DeviceState.UNKNOWN]           = \"unknown\",\n",
    "   },\n",
    "   widget = {}\n",
    "}\n",
    "\n",
    "function battery.update(device)\n",
    "   for _,widget in ipairs(battery.widget) do\n",
    "      widget:emit_signal(battery.signal.update, device)\n",
    "   end\n",
    "end\n",
    "\n",
    "battery.client = UP.Client:new()\n",
    "battery.display_device = battery.client:get_display_device()\n",
    "if battery.display_device.is_present then\n",
    "   -- try to find any other working device\n",
    "   for _, d in ipairs(battery.client:get_devices()) do\n",
    "      if d.is_present then\n",
    "\t battery.display_device=d\n",
    "\t break\n",
    "      end\n",
    "   end\n",
    "   if not battery.display_device.is_present then\n",
    "      return\n",
    "   end\n",
    "end\n",
    "\n",
    "battery.display_device.on_notify = function(device)\n",
    "   battery.update(device)\n",
    "   if device.warning_level == UP.DeviceLevel.LOW\n",
    "      or device.warning_level == UP.DeviceLevel.CRITICAL\n",
    "      or device.warning_level == UP.DeviceLevel.ACTION\n",
    "      or device.warning_level == UP.DeviceLevel.LAST\n",
    "   then\n",
    "      notify({\n",
    "\t title = api.battery.notification.critical_title or \"Warning\",\n",
    "\t text = battery.notification.critical_text or \"Please connect your charger\",\n",
    "\t preset  = battery.notification.critical_preset or naughty.config.presets.critical\n",
    "      })\n",
    "   end\n",
    "end\n",
    "\n",
    "function battery.attach(widget)\n",
    "   table.insert(battery.widget, widget)\n",
    "   widget:emit_signal(battery.signal.update, battery.display_device)\n",
    "end\n",
    "\n",
    "return battery"
   ]
  },
  {
   "cell_type": "code",
   "execution_count": 50,
   "id": "compressed-substitute",
   "metadata": {},
   "outputs": [
    {
     "name": "stdout",
     "output_type": "stream",
     "text": [
      ";/usr/share/lua/5.3/?.lua;/usr/share/lua/5.3/?/init.lua;/usr/lib/lua/5.3/?.lua;/usr/lib/lua/5.3/?/init.lua;./?.lua;./?/init.lua;/home/santapo/.local/lib/python3.9/site-packages/ilua/?.lua;/usr/share/awesome/lib/?.lua;/usr/share/awesome/?/init.lua;/usr/share/awesome/lib/?.lua;/usr/share/awesome/?/init.lua\n"
     ]
    },
    {
     "ename": "n/a",
     "evalue": "(ilua):5: module 'wibox' not found:",
     "execution_count": 50,
     "output_type": "error",
     "traceback": [
      "(ilua):5: module 'wibox' not found:",
      "\tno field package.preload['wibox']",
      "\tno file '/usr/share/lua/5.3/wibox.lua'",
      "\tno file '/usr/share/lua/5.3/wibox/init.lua'",
      "\tno file '/usr/lib/lua/5.3/wibox.lua'",
      "\tno file '/usr/lib/lua/5.3/wibox/init.lua'",
      "\tno file './wibox.lua'",
      "\tno file './wibox/init.lua'",
      "\tno file '/home/santapo/.local/lib/python3.9/site-packages/ilua/wibox.lua'",
      "\tno file '/usr/share/awesome/lib/wibox.lua'",
      "\tno file '/usr/share/awesome/wibox/init.lua'",
      "\tno file '/usr/share/awesome/lib/wibox.lua'",
      "\tno file '/usr/share/awesome/wibox/init.lua'",
      "\tno file '/usr/lib/lua/5.3/wibox.so'",
      "\tno file '/usr/lib/lua/5.3/loadall.so'",
      "\tno file './wibox.so'",
      "stack traceback:",
      "\t[C]: in function 'require'",
      "\t(ilua):5: in main chunk",
      "\t[C]: in function 'xpcall'",
      "\t...ntapo/.local/lib/python3.9/site-packages/ilua/interp.lua:65: in local 'handle_execute'",
      "\t...ntapo/.local/lib/python3.9/site-packages/ilua/interp.lua:162: in main chunk",
      "\t[C]: in ?"
     ]
    }
   ],
   "source": [
    "pcall(require, \"luarocks.loader\")\n",
    "\n",
    "local lgi = require ('lgi')\n",
    "local UP = lgi.require('UPowerGlib')\n",
    "local naughty = require ('naughty')\n",
    "\n",
    "local battery = {\n",
    "   signal = {\n",
    "      update = \"battery::update\",\n",
    "      attach = \"battery::attach\"\n",
    "   },\n",
    "   notification = {},\n",
    "   status = {\n",
    "      [UP.DeviceState.PENDING_DISCHARGE] = \"pending discharge\",\n",
    "      [UP.DeviceState.PENDING_CHARGE]    = \"pending charge\",\n",
    "      [UP.DeviceState.FULLY_CHARGED]     = \"full\",\n",
    "      [UP.DeviceState.EMPTY]             = \"empty\",\n",
    "      [UP.DeviceState.DISCHARGING]       = \"discharging\",\n",
    "      [UP.DeviceState.CHARGING]          = \"charging\",\n",
    "      [UP.DeviceState.UNKNOWN]           = \"unknown\",\n",
    "   },\n",
    "   widget = {}\n",
    "}\n",
    "\n",
    "function battery.update(device)\n",
    "   for _,widget in ipairs(battery.widget) do\n",
    "      widget:emit_signal(battery.signal.update, device)\n",
    "   end\n",
    "end\n",
    "\n",
    "function battery.attach(widget)\n",
    "   table.insert(battery.widget, widget)\n",
    "   widget:emit_signal(battery.signal.update, battery.display_device)\n",
    "end\n",
    "\n",
    "battery.client = UP.Client:new()\n",
    "battery.display_device = battery.client:get_display_device()\n",
    "if battery.display_device.is_present then\n",
    "   -- try to find any other working device\n",
    "   for _, d in ipairs(battery.client:get_devices()) do\n",
    "      if d.is_present then\n",
    "\t battery.display_device=d\n",
    "\t break\n",
    "      end\n",
    "   end\n",
    "   if not battery.display_device.is_present then\n",
    "      return\n",
    "   end\n",
    "end\n",
    "\n",
    "a = battery.signal.update\n",
    "print(a)\n",
    "print(device)"
   ]
  },
  {
   "cell_type": "code",
   "execution_count": null,
   "id": "organizational-sleeve",
   "metadata": {},
   "outputs": [],
   "source": [
    "widget"
   ]
  },
  {
   "cell_type": "code",
   "execution_count": 5,
   "id": "worldwide-round",
   "metadata": {},
   "outputs": [
    {
     "name": "stdout",
     "output_type": "stream",
     "text": [
      ";/usr/share/lua/5.3/?.lua;/usr/share/lua/5.3/?/init.lua;/usr/lib/lua/5.3/?.lua;/usr/lib/lua/5.3/?/init.lua;./?.lua;./?/init.lua;/home/santapo/.local/lib/python3.9/site-packages/ilua/?.lua;/usr/share/awesome/lib/?.lua;/usr/share/awesome/?/init.lua;/usr/share/awesome/lib/?.lua;/usr/share/awesome/?/init.lua;;/usr/share/awesome/lib/?.lua;/usr/share/awesome/?/init.lua;\n"
     ]
    }
   ],
   "source": [
    "pcall(require, \"luarocks.loader\")\n",
    "\n",
    "package.path = package.path .. \";/usr/share/awesome/lib/?.lua;/usr/share/awesome/?/init.lua;\"\n",
    "print(package.path)"
   ]
  },
  {
   "cell_type": "code",
   "execution_count": 6,
   "id": "wrapped-duration",
   "metadata": {},
   "outputs": [
    {
     "ename": "n/a",
     "evalue": "(ilua):1: module 'wibox' not found:",
     "execution_count": 6,
     "output_type": "error",
     "traceback": [
      "(ilua):1: module 'wibox' not found:",
      "\tno field package.preload['wibox']",
      "\tno file '/usr/share/lua/5.3/wibox.lua'",
      "\tno file '/usr/share/lua/5.3/wibox/init.lua'",
      "\tno file '/usr/lib/lua/5.3/wibox.lua'",
      "\tno file '/usr/lib/lua/5.3/wibox/init.lua'",
      "\tno file './wibox.lua'",
      "\tno file './wibox/init.lua'",
      "\tno file '/home/santapo/.local/lib/python3.9/site-packages/ilua/wibox.lua'",
      "\tno file '/usr/share/awesome/lib/wibox.lua'",
      "\tno file '/usr/share/awesome/wibox/init.lua'",
      "\tno file '/usr/share/awesome/lib/wibox.lua'",
      "\tno file '/usr/share/awesome/wibox/init.lua'",
      "\tno file '/usr/share/awesome/lib/wibox.lua'",
      "\tno file '/usr/share/awesome/wibox/init.lua'",
      "\tno file '/usr/lib/lua/5.3/wibox.so'",
      "\tno file '/usr/lib/lua/5.3/loadall.so'",
      "\tno file './wibox.so'",
      "stack traceback:",
      "\t[C]: in function 'require'",
      "\t(ilua):1: in main chunk",
      "\t[C]: in function 'xpcall'",
      "\t...ntapo/.local/lib/python3.9/site-packages/ilua/interp.lua:65: in local 'handle_execute'",
      "\t...ntapo/.local/lib/python3.9/site-packages/ilua/interp.lua:162: in main chunk",
      "\t[C]: in ?"
     ]
    }
   ],
   "source": [
    "require (\"wibox\")"
   ]
  },
  {
   "cell_type": "code",
   "execution_count": 9,
   "id": "classical-highlight",
   "metadata": {},
   "outputs": [
    {
     "ename": "n/a",
     "evalue": "(ilua):4: attempt to call a nil value (global 'geticon')",
     "execution_count": 9,
     "output_type": "error",
     "traceback": [
      "(ilua):4: attempt to call a nil value (global 'geticon')",
      "stack traceback:",
      "\t(ilua):4: in main chunk",
      "\t[C]: in function 'xpcall'",
      "\t...ntapo/.local/lib/python3.9/site-packages/ilua/interp.lua:65: in local 'handle_execute'",
      "\t...ntapo/.local/lib/python3.9/site-packages/ilua/interp.lua:162: in main chunk",
      "\t[C]: in ?"
     ]
    }
   ],
   "source": [
    "beautiful = require(\"beautiful\")\n",
    "local icondir = beautiful.icondir\n",
    "\n",
    "image = icondir .. geticon(20)"
   ]
  },
  {
   "cell_type": "code",
   "execution_count": null,
   "id": "technological-desktop",
   "metadata": {},
   "outputs": [],
   "source": []
  },
  {
   "cell_type": "code",
   "execution_count": 17,
   "id": "opposite-tulsa",
   "metadata": {},
   "outputs": [
    {
     "name": "stdout",
     "output_type": "stream",
     "text": [
      "6.0\n"
     ]
    }
   ],
   "source": [
    "local lgi = require ('lgi')\n",
    "local UP = lgi.require('UPowerGlib')\n",
    "\n",
    "print(UP.DeviceState.PENDING_DISCHARGE)"
   ]
  },
  {
   "cell_type": "code",
   "execution_count": 25,
   "id": "eastern-newport",
   "metadata": {},
   "outputs": [
    {
     "ename": "n/a",
     "evalue": "(ilua):1: attempt to index a nil value (global 'battery')",
     "execution_count": 25,
     "output_type": "error",
     "traceback": [
      "(ilua):1: attempt to index a nil value (global 'battery')",
      "stack traceback:",
      "\t(ilua):1: in main chunk",
      "\t[C]: in function 'xpcall'",
      "\t...ntapo/.local/lib/python3.9/site-packages/ilua/interp.lua:65: in local 'handle_execute'",
      "\t...ntapo/.local/lib/python3.9/site-packages/ilua/interp.lua:162: in main chunk",
      "\t[C]: in ?"
     ]
    }
   ],
   "source": [
    "print(battery.signal)"
   ]
  }
 ],
 "metadata": {
  "kernelspec": {
   "display_name": "Lua",
   "language": "lua",
   "name": "lua"
  },
  "language_info": {
   "file_extension": ".lua",
   "mimetype": "text/x-lua",
   "name": "lua",
   "version": "5.3"
  }
 },
 "nbformat": 4,
 "nbformat_minor": 5
}
